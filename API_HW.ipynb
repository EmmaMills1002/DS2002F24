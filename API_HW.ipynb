{
  "nbformat": 4,
  "nbformat_minor": 0,
  "metadata": {
    "colab": {
      "provenance": [],
      "authorship_tag": "ABX9TyPk8FyiqmiXGUF9EnlmB321",
      "include_colab_link": true
    },
    "kernelspec": {
      "name": "python3",
      "display_name": "Python 3"
    },
    "language_info": {
      "name": "python"
    }
  },
  "cells": [
    {
      "cell_type": "markdown",
      "metadata": {
        "id": "view-in-github",
        "colab_type": "text"
      },
      "source": [
        "<a href=\"https://colab.research.google.com/github/EmmaMills1002/DS2002F24/blob/main/API_HW.ipynb\" target=\"_parent\"><img src=\"https://colab.research.google.com/assets/colab-badge.svg\" alt=\"Open In Colab\"/></a>"
      ]
    },
    {
      "cell_type": "code",
      "execution_count": 3,
      "metadata": {
        "id": "96L-HF4UnTXH"
      },
      "outputs": [],
      "source": [
        "import requests\n",
        "import pandas as pd"
      ]
    },
    {
      "cell_type": "code",
      "source": [
        "stock_ticker = input(\"Enter a stock ticker symbol: \")"
      ],
      "metadata": {
        "colab": {
          "base_uri": "https://localhost:8080/"
        },
        "id": "fJvPedY8nYpr",
        "outputId": "3b98234c-edab-4c35-95b1-52b69b3368e2"
      },
      "execution_count": 4,
      "outputs": [
        {
          "name": "stdout",
          "output_type": "stream",
          "text": [
            "Enter a stock ticker symbol: AAPL\n"
          ]
        }
      ]
    },
    {
      "cell_type": "code",
      "source": [
        "api_key = 'MYKEY'\n",
        "url = \"https://yfapi.net/v6/finance/quote\"\n",
        "querystring = {'region':'US', 'lang':'en', 'symbols': stock_ticker}\n",
        "headers = {'x-api-key': api_key}"
      ],
      "metadata": {
        "id": "JUE9XYOenfCz"
      },
      "execution_count": 5,
      "outputs": []
    },
    {
      "cell_type": "code",
      "source": [
        "response = requests.get(url, headers=headers, params=querystring)"
      ],
      "metadata": {
        "id": "18_jh1Xgnhlj"
      },
      "execution_count": 6,
      "outputs": []
    },
    {
      "cell_type": "code",
      "source": [
        "stock_data = response.json()"
      ],
      "metadata": {
        "id": "GONZ9d47nvmb"
      },
      "execution_count": 9,
      "outputs": []
    },
    {
      "cell_type": "code",
      "source": [
        "stock_info = stock_data['quoteResponse']['result'][0]\n",
        "ticker = stock_info.get('symbol', 'N/A')\n",
        "name = stock_info.get('longName', 'N/A')\n",
        "current_price = stock_info.get('regularMarketPrice', 'N/A')\n",
        "week_high = stock_info.get('fiftyTwoWeekHigh', 'N/A')\n",
        "week_low = stock_info.get('fiftyTwoWeekLow', 'N/A')"
      ],
      "metadata": {
        "id": "Y3Wuz1gLnjf8"
      },
      "execution_count": 10,
      "outputs": []
    },
    {
      "cell_type": "code",
      "source": [
        "print(f\"Ticker: {ticker}\")\n",
        "print(f\"Name: {name}\")\n",
        "print(f\"Current Market Price: {current_price}\")\n",
        "print(f\"52 Week High: {week_high}\")\n",
        "print(f\"52 Week Low: {week_low}\")"
      ],
      "metadata": {
        "colab": {
          "base_uri": "https://localhost:8080/"
        },
        "id": "-EQgFSWQnyRA",
        "outputId": "a3be6393-a5d4-4acc-bcd6-43a645649f49"
      },
      "execution_count": 11,
      "outputs": [
        {
          "output_type": "stream",
          "name": "stdout",
          "text": [
            "Ticker: AAPL\n",
            "Name: Apple Inc.\n",
            "Current Market Price: 227.725\n",
            "52 Week High: 237.23\n",
            "52 Week Low: 164.08\n"
          ]
        }
      ]
    },
    {
      "cell_type": "code",
      "source": [
        "target_url = f\"https://yfapi.net/v11/finance/quoteSummary/{stock_ticker}\"\n",
        "target_querystring = {'modules': 'financialData'}\n",
        "target_response = requests.get(target_url, headers=headers, params=target_querystring)"
      ],
      "metadata": {
        "id": "3QBG5fZGn4au"
      },
      "execution_count": 13,
      "outputs": []
    },
    {
      "cell_type": "code",
      "source": [
        "target_data = target_response.json()\n",
        "target_mean_price = target_data['quoteSummary']['result'][0]['financialData'].get('targetMeanPrice', {}).get('raw', 'N/A')\n",
        "print(f\"Target Mean Price: {target_mean_price}\")"
      ],
      "metadata": {
        "colab": {
          "base_uri": "https://localhost:8080/"
        },
        "id": "jdu-wCCcoHiP",
        "outputId": "e9e1250f-b71d-4010-eea9-b059d49e1c64"
      },
      "execution_count": 14,
      "outputs": [
        {
          "output_type": "stream",
          "name": "stdout",
          "text": [
            "Target Mean Price: 240.58\n"
          ]
        }
      ]
    },
    {
      "cell_type": "code",
      "source": [
        "stock_df = pd.DataFrame({\n",
        "            'Ticker': [ticker],\n",
        "            'Name': [name],\n",
        "            'Current Price': [current_price],\n",
        "            'Target Mean Price': [target_mean_price],\n",
        "            '52 Week High': [week_high],\n",
        "            '52 Week Low': [week_low]\n",
        "        })\n",
        "stock_df.to_csv('stock_data.csv', index=False)"
      ],
      "metadata": {
        "id": "DFqvkwwEoO9t"
      },
      "execution_count": 18,
      "outputs": []
    },
    {
      "cell_type": "code",
      "source": [
        "trending_url = \"https://yfapi.net/v1/finance/trending/US\"\n",
        "trending_response = requests.get(trending_url, headers=headers)"
      ],
      "metadata": {
        "id": "k5eYYPGkobSg"
      },
      "execution_count": 19,
      "outputs": []
    },
    {
      "cell_type": "code",
      "source": [
        "trending_data = trending_response.json()\n",
        "trending_stocks = trending_data['finance']['result'][0]['quotes'][:5]\n",
        "print(\"\\nTrending Stocks:\")\n",
        "for stock in trending_stocks:\n",
        "  print(stock['symbol'])"
      ],
      "metadata": {
        "colab": {
          "base_uri": "https://localhost:8080/"
        },
        "id": "tiomfqkxofaz",
        "outputId": "c6135f41-04b5-472e-9212-63c7131d2182"
      },
      "execution_count": 20,
      "outputs": [
        {
          "output_type": "stream",
          "name": "stdout",
          "text": [
            "\n",
            "Trending Stocks:\n",
            "AMSC\n",
            "PWR\n",
            "VRT\n",
            "SNAP\n",
            "BBD\n"
          ]
        }
      ]
    }
  ]
}